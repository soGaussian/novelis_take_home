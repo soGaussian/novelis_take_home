{
 "cells": [
  {
   "cell_type": "code",
   "execution_count": null,
   "id": "228b7688-1e0b-409e-858f-d9d98b35264b",
   "metadata": {},
   "outputs": [],
   "source": [
    "import pandas as pd\n",
    "import numpy as np\n",
    "\n",
    "#setting up a file dir so I can reuse it\n",
    "file_dir = '/Users/richbafa/Desktop/novelis_take_home/take_home_docs/'\n",
    "\n",
    "#reading in the data for EDA\n",
    "user_trans =  pd.read_csv(file_dir + 'Candidate_tech_evaluation_candidate_copy_data science_fraud.csv')\n",
    "ip_to_country_map = pd.read_excel(file_dir + 'Candidate_tech_evaluation_candidate_copy_datascience_IpAddress_to_Country.xlsx')\n",
    "\n",
    "\n",
    "\n",
    "# Get a list of unique countries to loop over it\n",
    "countries = list(ip_to_country_map.country.unique())\n",
    "\n",
    "# DataFrame for unique IP address\n",
    "ip_table = user_trans[['ip_address']].drop_duplicates()\n",
    "ip_cross_join = ip_table.merge(ip_to_country_map, how = 'cross')\n",
    "ip_cross_join = ip_cross_join[(ip_cross_join.ip_address >= ip_cross_join.lower_bound_ip_address) & (ip_cross_join.ip_address <= ip_cross_join.upper_bound_ip_address)]\n"
   ]
  },
  {
   "cell_type": "code",
   "execution_count": null,
   "id": "1b323772-ea55-4cd3-a20f-a102dfe07fa4",
   "metadata": {},
   "outputs": [],
   "source": [
    "#for compute efficiency we have to initialize a dict and append each cross join to the dict before converting back to dataframe\n",
    "results = []\n",
    "i = 1\n",
    "total_iter = len(countries)\n",
    "for country in countries:\n",
    "    \n",
    "    print('iteration {0} of {1}'.format(i, total_iter))\n",
    "    \n",
    "    #subset the country map df to include only one country and do the cross join\n",
    "    country_df = ip_to_country_map[ip_to_country_map['country'] == country]\n",
    "    \n",
    "    tmp_cross_join = ip_table.merge(country_df, how = 'cross')\n",
    "    tmp_cross_join =  tmp_cross_join[(tmp_cross_join.ip_address >= tmp_cross_join.lower_bound_ip_address) & (tmp_cross_join.ip_address <= tmp_cross_join.upper_bound_ip_address)]\n",
    "    \n",
    "    # Store the cross join as a list of dict and append it to the master list initialized above\n",
    "    # Before converting to list of dict, I want to make sure I am dropping duplicates\n",
    "    tmp = tmp_cross_join[['ip_address', 'country']].drop_duplicates().to_dict('records')\n",
    "    results.append(tmp)\n",
    "    \n",
    "    i += 1\n",
    "\n",
    "# convert the list of dict bact to Dataframe\n",
    "ip_look_up = pd.DataFrame.from_dict(results)\n",
    "ip_look_up.to_csv(file_dir + 'ip_look_up.csv')"
   ]
  }
 ],
 "metadata": {
  "kernelspec": {
   "display_name": "Python 3 (ipykernel)",
   "language": "python",
   "name": "python3"
  },
  "language_info": {
   "codemirror_mode": {
    "name": "ipython",
    "version": 3
   },
   "file_extension": ".py",
   "mimetype": "text/x-python",
   "name": "python",
   "nbconvert_exporter": "python",
   "pygments_lexer": "ipython3",
   "version": "3.9.7"
  }
 },
 "nbformat": 4,
 "nbformat_minor": 5
}
