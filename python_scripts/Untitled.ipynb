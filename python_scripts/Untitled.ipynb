{
 "cells": [
  {
   "cell_type": "code",
   "execution_count": 2,
   "id": "25a8d065",
   "metadata": {},
   "outputs": [
    {
     "name": "stdout",
     "output_type": "stream",
     "text": [
      "Diemnsions of user transaction is: (120000, 11) \n",
      "Dimensions of IP address to country mapping is: (138846, 3)\n"
     ]
    }
   ],
   "source": [
    "import pandas as pd\n",
    "import numpy as np\n",
    "\n",
    "#setting up a file dir so I can reuse it\n",
    "file_dir = '/Users/richbafa/Desktop/novelis_take_home/take_home_docs/'\n",
    "\n",
    "#reading in the data for EDA\n",
    "user_trans =  pd.read_csv(file_dir + 'Candidate_tech_evaluation_candidate_copy_data science_fraud.csv')\n",
    "ip_to_country_map = pd.read_excel(file_dir + 'Candidate_tech_evaluation_candidate_copy_datascience_IpAddress_to_Country.xlsx')\n",
    "\n",
    "print('Diemnsions of user transaction is: {0} \\nDimensions of IP address to country mapping is: {1}'.format(user_trans.shape, ip_to_country_map.shape))\n"
   ]
  },
  {
   "cell_type": "markdown",
   "id": "9c89c082-a165-4ffd-8fd3-0c6c0790a83e",
   "metadata": {},
   "source": [
    "## Initial exploration to understand data includes the following question\n",
    "1. Are there duplicate rows in the user trans data       \n",
    "2. Is the data truly unique at customer ID level\n",
    "3. Is device ID unique or it can be shared\n",
    "4. Is IP address unique\n",
    "5. Does the join to map each ip address to its corresponding country results in duplicate rows being created or attribution to multiple countries\n",
    "\n",
    "### Are there duplicate rows"
   ]
  },
  {
   "cell_type": "code",
   "execution_count": 3,
   "id": "38490c2c-cf46-4bf4-a403-52d05fe70c04",
   "metadata": {},
   "outputs": [
    {
     "name": "stdout",
     "output_type": "stream",
     "text": [
      "Dimensions of user transactions before dropping duplicates is: (120000, 11) \n",
      "Dimension of user transactions after dropping duplicates is: (120000, 11)\n"
     ]
    }
   ],
   "source": [
    "#As seen in the output below, the data does not have duplicates\n",
    "print('Dimensions of user transactions before dropping duplicates is: {0} \\nDimension of user transactions after dropping duplicates is: {1}'.format(user_trans.shape, user_trans.drop_duplicates().shape))"
   ]
  },
  {
   "cell_type": "markdown",
   "id": "d1ef13dc-b539-468f-abe1-6fd930765a42",
   "metadata": {},
   "source": [
    "### Is the data truly unique at customer ID level"
   ]
  },
  {
   "cell_type": "code",
   "execution_count": 4,
   "id": "dc2cd3b8-93e0-474c-a271-155cd9ba3a94",
   "metadata": {},
   "outputs": [
    {
     "name": "stdout",
     "output_type": "stream",
     "text": [
      "number of unique user_id is 120000\n"
     ]
    }
   ],
   "source": [
    "#As seen in the output below, the number of unique user_id is equal to the number of rows in the user trans table\n",
    "print('number of unique user_id is {}'.format(user_trans[['user_id']].drop_duplicates().size))"
   ]
  },
  {
   "cell_type": "markdown",
   "id": "7780b109-a5a6-48b9-8a93-ed7a0c390a02",
   "metadata": {},
   "source": [
    "### Is device ID unique or it can be shared"
   ]
  },
  {
   "cell_type": "code",
   "execution_count": 5,
   "id": "65ca0ca7-ed26-4b6c-9639-540cd86fcd17",
   "metadata": {},
   "outputs": [
    {
     "name": "stdout",
     "output_type": "stream",
     "text": [
      "number of unique devices is 110599\n"
     ]
    }
   ],
   "source": [
    "#As seen in the output below, there are some devices that were share by different user\n",
    "#I will explore generating a feature from this and see if that feature can scale\n",
    "print('number of unique devices is {}'.format(user_trans[['device_id']].drop_duplicates().size))"
   ]
  },
  {
   "cell_type": "markdown",
   "id": "5cc85973-8d26-42b9-8cbe-8abcaac633fc",
   "metadata": {},
   "source": [
    "### Is IP address unique"
   ]
  },
  {
   "cell_type": "code",
   "execution_count": 17,
   "id": "8c84ef4c-d1a9-4824-a369-e7b473a17ed9",
   "metadata": {},
   "outputs": [
    {
     "name": "stdout",
     "output_type": "stream",
     "text": [
      "number of unique devices is 114134\n"
     ]
    }
   ],
   "source": [
    "#IP address is not unique as well\n",
    "print('number of unique devices is {}'.format(user_trans[['ip_address']].drop_duplicates().size))"
   ]
  },
  {
   "cell_type": "markdown",
   "id": "26b5fda5-036c-4613-9c95-b5cd5c3f9c27",
   "metadata": {},
   "source": [
    "### Does the join to map each ip address to its corresponding country results in duplicate rows being created or attribution to multiple countries\n",
    "* My compute resource could now handle the cross join between the user trans table and the ip address to country mapping  table. \n",
    "* A work around is create a custom ip address to country look up table and left join bac to the trans table with IP address as the key"
   ]
  },
  {
   "cell_type": "code",
   "execution_count": 27,
   "id": "ade3ed90-47de-4137-b9db-6332a3311122",
   "metadata": {},
   "outputs": [
    {
     "name": "stdout",
     "output_type": "stream",
     "text": [
      "iteration 1 of 235\n",
      "iteration 2 of 235\n",
      "iteration 3 of 235\n",
      "iteration 4 of 235\n"
     ]
    }
   ],
   "source": [
    "# Get a list of unique countries to loop over it\n",
    "countries = list(ip_to_country_map.country.unique())\n",
    "\n",
    "# DataFrame for unique IP address\n",
    "ip_table = user_trans[['ip_address']].drop_duplicates()\n",
    "\n",
    "#for compute efficiency we have to initialize a dict and append each cross join to the dict before converting back to dataframe\n",
    "results = []\n",
    "i = 1\n",
    "total_iter = len(countries)\n",
    "for country in countries[:4]:\n",
    "    \n",
    "    print('iteration {0} of {1}'.format(i, total_iter))\n",
    "    \n",
    "    #subset the country map df to include only one country and do the cross join\n",
    "    country_df = ip_to_country_map[ip_to_country_map['country'] == country]\n",
    "    \n",
    "    tmp_cross_join = ip_table.merge(country_df, how = 'cross')\n",
    "    tmp_cross_join =  tmp_cross_join[(tmp_cross_join.ip_address >= tmp_cross_join.lower_bound_ip_address) & (tmp_cross_join.ip_address <= tmp_cross_join.upper_bound_ip_address)]\n",
    "    \n",
    "    # Store the cross join as a list of dict and append it to the master list initialized above\n",
    "    # Before converting to list of dict, I want to make sure I am dropping duplicates\n",
    "    tmp = tmp_cross_join[['ip_address', 'country']].drop_duplicates().to_dict('records')\n",
    "    results.append(tmp)\n",
    "    \n",
    "    i += 1\n",
    "\n",
    "# convert the list of dict bact to Dataframe\n",
    "ip_look_up = pd.DataFrame.from_dict(results)\n",
    "ip_look_up.to_csv(file_dir + 'ip_look_up.csv')\n",
    "\n",
    "# #to map each ip address to the corresponding country, I will need to create a cross join between the trans table and ip to country map table\n",
    "# user_trans_with_country_map = user_trans.merge(ip_to_country_map, how = 'cross')\n",
    "# list(user_trans_with_country_map)"
   ]
  },
  {
   "cell_type": "code",
   "execution_count": 6,
   "id": "850038a3-2586-45cb-a2f6-c180c54cb4c9",
   "metadata": {},
   "outputs": [
    {
     "name": "stdout",
     "output_type": "stream",
     "text": [
      "number of unique countries is 235\n"
     ]
    }
   ],
   "source": [
    "print('number of unique countries is {}'.format(ip_to_country_map[['country']].drop_duplicates().size))"
   ]
  },
  {
   "cell_type": "code",
   "execution_count": 15,
   "id": "6cb4822a-9ed2-4149-beb0-0765dcf50fbe",
   "metadata": {},
   "outputs": [
    {
     "data": {
      "text/plain": [
       "['Australia', 'China', 'Japan']"
      ]
     },
     "execution_count": 15,
     "metadata": {},
     "output_type": "execute_result"
    }
   ],
   "source": [
    "countries[:3]"
   ]
  },
  {
   "cell_type": "code",
   "execution_count": 18,
   "id": "32716406-152d-44cd-882a-c990242fe3c5",
   "metadata": {},
   "outputs": [
    {
     "data": {
      "text/html": [
       "<div>\n",
       "<style scoped>\n",
       "    .dataframe tbody tr th:only-of-type {\n",
       "        vertical-align: middle;\n",
       "    }\n",
       "\n",
       "    .dataframe tbody tr th {\n",
       "        vertical-align: top;\n",
       "    }\n",
       "\n",
       "    .dataframe thead th {\n",
       "        text-align: right;\n",
       "    }\n",
       "</style>\n",
       "<table border=\"1\" class=\"dataframe\">\n",
       "  <thead>\n",
       "    <tr style=\"text-align: right;\">\n",
       "      <th></th>\n",
       "      <th>ip_address</th>\n",
       "      <th>lower_bound_ip_address</th>\n",
       "      <th>upper_bound_ip_address</th>\n",
       "      <th>country</th>\n",
       "    </tr>\n",
       "  </thead>\n",
       "  <tbody>\n",
       "    <tr>\n",
       "      <th>49687</th>\n",
       "      <td>1.997833e+09</td>\n",
       "      <td>1997799424</td>\n",
       "      <td>1998061567</td>\n",
       "      <td>China</td>\n",
       "    </tr>\n",
       "    <tr>\n",
       "      <th>60515</th>\n",
       "      <td>1.849441e+09</td>\n",
       "      <td>1849163776</td>\n",
       "      <td>1849688063</td>\n",
       "      <td>China</td>\n",
       "    </tr>\n",
       "    <tr>\n",
       "      <th>134304</th>\n",
       "      <td>7.166723e+08</td>\n",
       "      <td>716177408</td>\n",
       "      <td>716701695</td>\n",
       "      <td>China</td>\n",
       "    </tr>\n",
       "    <tr>\n",
       "      <th>150080</th>\n",
       "      <td>1.931242e+09</td>\n",
       "      <td>1931214848</td>\n",
       "      <td>1931345919</td>\n",
       "      <td>China</td>\n",
       "    </tr>\n",
       "    <tr>\n",
       "      <th>182666</th>\n",
       "      <td>6.594343e+08</td>\n",
       "      <td>658505728</td>\n",
       "      <td>660602879</td>\n",
       "      <td>China</td>\n",
       "    </tr>\n",
       "  </tbody>\n",
       "</table>\n",
       "</div>"
      ],
      "text/plain": [
       "          ip_address  lower_bound_ip_address  upper_bound_ip_address country\n",
       "49687   1.997833e+09              1997799424              1998061567   China\n",
       "60515   1.849441e+09              1849163776              1849688063   China\n",
       "134304  7.166723e+08               716177408               716701695   China\n",
       "150080  1.931242e+09              1931214848              1931345919   China\n",
       "182666  6.594343e+08               658505728               660602879   China"
      ]
     },
     "execution_count": 18,
     "metadata": {},
     "output_type": "execute_result"
    }
   ],
   "source": [
    "country_df = ip_to_country_map[ip_to_country_map['country'] == 'China']\n",
    "ip_table = user_trans[['ip_address']].drop_duplicates()\n",
    "    \n",
    "tmp_cross_join = ip_table.merge(country_df, how = 'cross')\n",
    "tmp_cross_join =  tmp_cross_join[(tmp_cross_join.ip_address >= tmp_cross_join.lower_bound_ip_address) & (tmp_cross_join.ip_address <= tmp_cross_join.upper_bound_ip_address)]\n",
    "\n",
    "tmp_cross_join.head()"
   ]
  },
  {
   "cell_type": "code",
   "execution_count": null,
   "id": "e1e1d3b9-c787-476c-b2ca-36353e8590b4",
   "metadata": {},
   "outputs": [],
   "source": []
  }
 ],
 "metadata": {
  "kernelspec": {
   "display_name": "Python 3 (ipykernel)",
   "language": "python",
   "name": "python3"
  },
  "language_info": {
   "codemirror_mode": {
    "name": "ipython",
    "version": 3
   },
   "file_extension": ".py",
   "mimetype": "text/x-python",
   "name": "python",
   "nbconvert_exporter": "python",
   "pygments_lexer": "ipython3",
   "version": "3.9.7"
  }
 },
 "nbformat": 4,
 "nbformat_minor": 5
}
