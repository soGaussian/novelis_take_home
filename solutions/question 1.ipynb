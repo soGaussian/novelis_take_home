{
 "cells": [
  {
   "cell_type": "markdown",
   "id": "1aa5387b-f65c-4824-8c67-ec04267182a9",
   "metadata": {},
   "source": [
    "## Question 1"
   ]
  },
  {
   "cell_type": "code",
   "execution_count": 1,
   "id": "86916bf5-af08-4458-b6fa-752e0bb2033a",
   "metadata": {},
   "outputs": [],
   "source": [
    "import pandas as pd\n",
    "\n",
    "#replicating the example in the question by generating a list for each column\n",
    "name =  ['Andy','Jose','Dieu','Chloe','Jose']\n",
    "continent = ['America','Europe','Asia','America','Europe']\n",
    "college = ['Lib Arts', 'Business', 'Engineering', 'Engineering', 'Business']\n",
    "\n",
    "#zip the lists together and coarce it to a dataframe\n",
    "cols = ['name', 'continent', 'college']\n",
    "students = pd.DataFrame(data = list(zip(name,continent,college)), columns = cols)"
   ]
  },
  {
   "cell_type": "markdown",
   "id": "14d68643-0242-4401-996b-0fe85f7b2bed",
   "metadata": {},
   "source": [
    "### A) Write R or Pandas code to de-dup STUDENTS (1pt):"
   ]
  },
  {
   "cell_type": "code",
   "execution_count": 2,
   "id": "92fe39cd-4937-483e-b5e8-db1579fa4c89",
   "metadata": {},
   "outputs": [],
   "source": [
    "#since we want unique counts of student, I drop duplicate records below\n",
    "#Setting inplace to True to overwrite the dataframe\n",
    "students.drop_duplicates(inplace = True)"
   ]
  },
  {
   "cell_type": "markdown",
   "id": "e227a033-57f2-4d83-beb0-47f6b070742b",
   "metadata": {},
   "source": [
    "### B) Create a data frame COUNTS storing the count of students for each continent, college pair (2pts):"
   ]
  },
  {
   "cell_type": "code",
   "execution_count": 3,
   "id": "88d14fd1-c786-4066-a6b0-7ce6fa9e07b0",
   "metadata": {},
   "outputs": [],
   "source": [
    "#Renames the frquency column from name to an intuitive column name\n",
    "counts = students.pivot_table(index= ['college', 'continent'],values = ['name'], aggfunc={'name':'size'}).rename(columns = {'name':'student_counts'})\n",
    "counts.reset_index(inplace = True)"
   ]
  },
  {
   "cell_type": "markdown",
   "id": "73486e01-15c2-4ab9-b27b-681bb7d2abcb",
   "metadata": {},
   "source": [
    "### C) Pivot COUNTS so that continent values become column names (2pts)"
   ]
  },
  {
   "cell_type": "code",
   "execution_count": 4,
   "id": "4b94e92e-7b49-4887-b160-3faabbe0bb0e",
   "metadata": {},
   "outputs": [],
   "source": [
    "counts = pd.pivot(counts, index='college', columns='continent', values='student_counts')"
   ]
  },
  {
   "cell_type": "markdown",
   "id": "757ff0b2-eba6-468b-812b-a2ae0df23e20",
   "metadata": {},
   "source": [
    "### D) If applicable, remove any unnecessary index levels created in part C (1pts):"
   ]
  },
  {
   "cell_type": "code",
   "execution_count": 5,
   "id": "d6970de2-5dd3-4846-bdde-46dba4b86d64",
   "metadata": {},
   "outputs": [],
   "source": [
    "counts.reset_index(inplace = True)"
   ]
  },
  {
   "cell_type": "markdown",
   "id": "0d452b64-3acb-45f3-82b7-62bfa0b7c64b",
   "metadata": {},
   "source": [
    "### E) Zero-fill missing values in COUNTS (1pt):"
   ]
  },
  {
   "cell_type": "code",
   "execution_count": 6,
   "id": "2234910c-4b68-4815-a854-31a581ef1171",
   "metadata": {},
   "outputs": [
    {
     "data": {
      "text/html": [
       "<div>\n",
       "<style scoped>\n",
       "    .dataframe tbody tr th:only-of-type {\n",
       "        vertical-align: middle;\n",
       "    }\n",
       "\n",
       "    .dataframe tbody tr th {\n",
       "        vertical-align: top;\n",
       "    }\n",
       "\n",
       "    .dataframe thead th {\n",
       "        text-align: right;\n",
       "    }\n",
       "</style>\n",
       "<table border=\"1\" class=\"dataframe\">\n",
       "  <thead>\n",
       "    <tr style=\"text-align: right;\">\n",
       "      <th>continent</th>\n",
       "      <th>college</th>\n",
       "      <th>America</th>\n",
       "      <th>Asia</th>\n",
       "      <th>Europe</th>\n",
       "    </tr>\n",
       "  </thead>\n",
       "  <tbody>\n",
       "    <tr>\n",
       "      <th>0</th>\n",
       "      <td>Business</td>\n",
       "      <td>0.0</td>\n",
       "      <td>0.0</td>\n",
       "      <td>1.0</td>\n",
       "    </tr>\n",
       "    <tr>\n",
       "      <th>1</th>\n",
       "      <td>Engineering</td>\n",
       "      <td>1.0</td>\n",
       "      <td>1.0</td>\n",
       "      <td>0.0</td>\n",
       "    </tr>\n",
       "    <tr>\n",
       "      <th>2</th>\n",
       "      <td>Lib Arts</td>\n",
       "      <td>1.0</td>\n",
       "      <td>0.0</td>\n",
       "      <td>0.0</td>\n",
       "    </tr>\n",
       "  </tbody>\n",
       "</table>\n",
       "</div>"
      ],
      "text/plain": [
       "continent      college  America  Asia  Europe\n",
       "0             Business      0.0   0.0     1.0\n",
       "1          Engineering      1.0   1.0     0.0\n",
       "2             Lib Arts      1.0   0.0     0.0"
      ]
     },
     "execution_count": 6,
     "metadata": {},
     "output_type": "execute_result"
    }
   ],
   "source": [
    "counts.fillna(0, inplace = True)\n",
    "counts"
   ]
  },
  {
   "cell_type": "markdown",
   "id": "aa596d43-c22c-480a-80b2-b43c3e59e034",
   "metadata": {},
   "source": [
    "### F) Sort COUNTS reverse alphabetically by college name (1pt):"
   ]
  },
  {
   "cell_type": "code",
   "execution_count": 7,
   "id": "47116814-cf9f-4c0d-ab43-1ed858165fc3",
   "metadata": {},
   "outputs": [],
   "source": [
    "counts.sort_index(ascending=False, inplace = True)"
   ]
  },
  {
   "cell_type": "code",
   "execution_count": null,
   "id": "702f00bb-ac66-4810-b48c-bb588fd0cf96",
   "metadata": {},
   "outputs": [],
   "source": []
  }
 ],
 "metadata": {
  "kernelspec": {
   "display_name": "Python 3 (ipykernel)",
   "language": "python",
   "name": "python3"
  },
  "language_info": {
   "codemirror_mode": {
    "name": "ipython",
    "version": 3
   },
   "file_extension": ".py",
   "mimetype": "text/x-python",
   "name": "python",
   "nbconvert_exporter": "python",
   "pygments_lexer": "ipython3",
   "version": "3.9.7"
  }
 },
 "nbformat": 4,
 "nbformat_minor": 5
}
